{
 "cells": [
  {
   "cell_type": "code",
   "execution_count": 17,
   "metadata": {
    "collapsed": false
   },
   "outputs": [
    {
     "name": "stdout",
     "output_type": "stream",
     "text": [
      "Populating the interactive namespace from numpy and matplotlib\n"
     ]
    },
    {
     "name": "stderr",
     "output_type": "stream",
     "text": [
      "WARNING: pylab import has clobbered these variables: ['copy', 'random']\n",
      "`%matplotlib` prevents importing * from pylab and numpy\n"
     ]
    }
   ],
   "source": [
    "import pandas as pd\n",
    "import numpy as np\n",
    "import re\n",
    "%pylab inline\n",
    "import sklearn as skl\n",
    "import random\n",
    "import seaborn as sns\n",
    "import matplotlib as mpl\n",
    "import matplotlib.pyplot as plt\n",
    "from sklearn.externals import joblib\n",
    "from sklearn.ensemble import GradientBoostingClassifier as GBC\n",
    "from sklearn.grid_search import GridSearchCV\n",
    "from sklearn.ensemble.partial_dependence import plot_partial_dependence as PDP\n",
    "from sklearn.externals import joblib \n",
    "from sklearn.feature_selection import RFE\n",
    "from sklearn.linear_model import LogisticRegression,LinearRegression\n",
    "from sklearn import preprocessing\n",
    "from __future__ import print_function\n",
    "import statsmodels.api as sm\n",
    "import statsmodels.formula.api as smf\n",
    "import xgboost as xgb\n",
    "import copy\n",
    "from sklearn.cross_validation import train_test_split\n",
    "%matplotlib inline"
   ]
  },
  {
   "cell_type": "code",
   "execution_count": 26,
   "metadata": {
    "collapsed": true
   },
   "outputs": [],
   "source": [
    "data = pd.read_csv(\"campaign_pd_basline.csv\")"
   ]
  },
  {
   "cell_type": "code",
   "execution_count": 27,
   "metadata": {
    "collapsed": false
   },
   "outputs": [],
   "source": [
    "data_y = data['y']\n",
    "data_x = data.drop('y', 1)\n",
    "\n",
    "#X_train, X_test, y_train, y_test = train_test_split(data_x, data_y, test_size=0.2, random_state=7)"
   ]
  },
  {
   "cell_type": "code",
   "execution_count": 28,
   "metadata": {
    "collapsed": true
   },
   "outputs": [],
   "source": [
    "class XGBoostClassifier():\n",
    "        def __init__(self, num_boost_round=10, **params):\n",
    "            self.clf = None\n",
    "            self.num_boost_round = num_boost_round\n",
    "            self.params = params\n",
    "            self.params.update({'objective': 'multi:softprob'})\n",
    "\n",
    "        def fit(self, X, y, num_boost_round=None):\n",
    "            num_boost_round = num_boost_round or self.num_boost_round\n",
    "            self.label2num = dict((label, i) for i, label in enumerate(sorted(set(y))))\n",
    "            dtrain = xgb.DMatrix(X, label=[self.label2num[label] for label in y])\n",
    "            self.clf = xgb.train(params=self.params\n",
    "                                ,dtrain=dtrain\n",
    "                                ,num_boost_round=num_boost_round\n",
    "                                )\n",
    "\n",
    "        def fit1(self, X1, y1, X2, y2, num_boost_round=None):\n",
    "            num_boost_round = num_boost_round or self.num_boost_round\n",
    "            self.label2num1 = dict((label, i) for i, label in enumerate(sorted(set(y1))))\n",
    "            dtrain = xgb.DMatrix(X1, label=[self.label2num1[label] for label in y1])\n",
    "            self.label2num2 = dict((label, i) for i, label in enumerate(sorted(set(y2))))\n",
    "            dtest  = xgb.DMatrix(X2, label=[self.label2num2[label] for label in y2])\n",
    "            watchlist=[(dtrain,'train'),(dtest,'test')]\n",
    "            self.clf = xgb.train(params=self.params\n",
    "                                ,dtrain=dtrain\n",
    "                                ,num_boost_round=num_boost_round\n",
    "                                ,evals=watchlist\n",
    "                    ,early_stopping_rounds=20\n",
    "                                )\n",
    "\n",
    "        def get_best_ntree_limit(self,deep=True):\n",
    "            return self.clf.best_ntree_limit\n",
    "\n",
    "        def predict(self, X):\n",
    "            num2label = dict((i, label)for label, i in self.label2num.items())\n",
    "            Y = self.predict_proba(X)\n",
    "            y = np.argmax(Y, axis=1)\n",
    "            return np.array([num2label[i] for i in y])\n",
    "\n",
    "        def predict_proba(self, X):\n",
    "            dtest = xgb.DMatrix(X)\n",
    "            return self.clf.predict(dtest)\n",
    "\n",
    "        def score(self, X, y):\n",
    "            Y = self.predict_proba(X)\n",
    "            return 1 / logloss(y, Y)\n",
    "\n",
    "        def get_params(self, deep=True):\n",
    "            return self.params\n",
    "\n",
    "        def set_params(self, **params):\n",
    "            if 'num_boost_round' in params:\n",
    "                self.num_boost_round = params.pop('num_boost_round')\n",
    "            if 'objective' in params:\n",
    "                del params['objective']\n",
    "            self.params.update(params)\n",
    "            return self"
   ]
  },
  {
   "cell_type": "code",
   "execution_count": 29,
   "metadata": {
    "collapsed": true
   },
   "outputs": [],
   "source": [
    "XGB_model = XGBoostClassifier(\n",
    "                                eval_metric = 'auc',\n",
    "                                num_class = 2,\n",
    "                                #nthread = 4,\n",
    "                                eta = 0.01,\n",
    "                                num_boost_round = 1000,\n",
    "                                max_depth = 3,\n",
    "                                #subsample = 0.5,\n",
    "                                colsample_bytree = 1.0,\n",
    "                                silent = 1,\n",
    "                                    )\n",
    "\n",
    "XGB_model.fit(X_train, y_train)\n",
    "pred_y_train = XGB_model.predict_proba(X_train)[:,1]\n",
    "pred_y_test = XGB_model.predict_proba(X_test)[:,1]"
   ]
  },
  {
   "cell_type": "code",
   "execution_count": 30,
   "metadata": {
    "collapsed": true
   },
   "outputs": [],
   "source": [
    "def somersd(score, target, bins=500):\n",
    "    pred = np.array([score, target]).T\n",
    "    score, target = pred[pred.argsort(0)[:,0]].T\n",
    "    #score, target = np.array(pd.DataFrame(pred).sort((0,1))).T\n",
    "    \n",
    "    n_1=float(sum(target))\n",
    "    n_0=float(len(score)-n_1)\n",
    "    \n",
    "    pct_1=[0.0]\n",
    "    pct_0=[0.0]\n",
    "\n",
    "    for i in xrange(bins):\n",
    "        end = int(float(i+1)/bins*len(pred))\n",
    "        c_1 = sum(target[0:end])\n",
    "        pct_1.append(c_1/n_1)\n",
    "        pct_0.append((end-c_1)/n_0)\n",
    "\n",
    "    pct_1.append(1.0)\n",
    "    pct_0.append(1.0)\n",
    "    \n",
    "    sd=[(pct_1[i+1]+pct_1[i])*(pct_0[i+1]-pct_0[i]) for i in xrange(bins)]\n",
    "    \n",
    "    somersd=1-sum(sd)\n",
    "    return somersd\n",
    "\n",
    "def somers_plots(preds, bins=40):\n",
    "    figsize(16,8)\n",
    "    df = pd.DataFrame()\n",
    "    for model, pred in preds.iteritems():\n",
    "        mname = str(model)[:str(model).find(\"(\")]\n",
    "        #p = np.array(pd.DataFrame(pred).sort((0,1)))\n",
    "        p = pred[pred.argsort(0)[:,0]]\n",
    "        pct = []\n",
    "        for i in xrange(bins):\n",
    "            start = int(float(i)/bins*len(p))\n",
    "            end = int(float(i+1)/bins*len(p))\n",
    "            pct.append((i, np.mean(p[start:end,1])))\n",
    "        pct = np.array(pct)\n",
    "        for i in pct[:,1]:\n",
    "            print (i)\n",
    "        som = ' (%.3f)' % somersd(p[:,0], p[:,1])\n",
    "        df = pd.concat([df, pd.DataFrame([pct, mname+som, som]).T])\n",
    "         \n",
    "    for k, v in df.sort(2, ascending=False).iterrows():\n",
    "        pct = v.get_values()[0]\n",
    "        plot(pct[:,0], pct[:,1], label=v[1])\n",
    "    \n",
    "    ylim(0,0.8)\n",
    "    legend(loc='lower right')\n",
    "    show()"
   ]
  },
  {
   "cell_type": "code",
   "execution_count": 31,
   "metadata": {
    "collapsed": false
   },
   "outputs": [
    {
     "name": "stdout",
     "output_type": "stream",
     "text": [
      "0.0\n",
      "0.0\n",
      "0.000552791597568\n",
      "0.00110619469027\n",
      "0.000552791597568\n",
      "0.0\n",
      "0.0016592920354\n",
      "0.0016583747927\n",
      "0.00553097345133\n",
      "0.0132669983416\n",
      "0.0138274336283\n",
      "0.0176991150442\n",
      "0.037037037037\n",
      "0.0691371681416\n",
      "0.110005527916\n",
      "0.160951327434\n",
      "0.259955752212\n",
      "0.398009950249\n",
      "0.543694690265\n",
      "0.728026533997\n",
      "0.0\n",
      "0.00221238938053\n",
      "0.00442477876106\n",
      "0.0\n",
      "0.00663716814159\n",
      "0.0\n",
      "0.0\n",
      "0.0110619469027\n",
      "0.00442477876106\n",
      "0.0221238938053\n",
      "0.0110619469027\n",
      "0.0265486725664\n",
      "0.0464601769912\n",
      "0.0485651214128\n",
      "0.0907079646018\n",
      "0.146017699115\n",
      "0.212389380531\n",
      "0.367256637168\n",
      "0.530973451327\n",
      "0.715231788079\n"
     ]
    },
    {
     "name": "stderr",
     "output_type": "stream",
     "text": [
      "/Users/kgx347/anaconda2/lib/python2.7/site-packages/ipykernel/__main__.py:44: FutureWarning: sort(columns=....) is deprecated, use sort_values(by=.....)\n"
     ]
    },
    {
     "data": {
      "image/png": "[encoded data removed]",
      "text/plain": [
       "<matplotlib.figure.Figure at 0x11964aed0>"
      ]
     },
     "metadata": {},
     "output_type": "display_data"
    }
   ],
   "source": [
    "#plot lift chart\n",
    "preds={} \n",
    "preds[\"pred_y_train \"] = np.array(zip(pred_y_train, y_train))\n",
    "preds[\"pred_y_test \"] = np.array(zip(pred_y_test, y_test))\n",
    "somers_plots(preds, bins=20)"
   ]
  },
  {
   "cell_type": "code",
   "execution_count": null,
   "metadata": {
    "collapsed": true
   },
   "outputs": [],
   "source": []
  }
 ],
 "metadata": {
  "kernelspec": {
   "display_name": "Python 2",
   "language": "python",
   "name": "python2"
  },
  "language_info": {
   "codemirror_mode": {
    "name": "ipython",
    "version": 2
   },
   "file_extension": ".py",
   "mimetype": "text/x-python",
   "name": "python",
   "nbconvert_exporter": "python",
   "pygments_lexer": "ipython2",
   "version": "2.7.11"
  }
 },
 "nbformat": 4,
 "nbformat_minor": 0
}
