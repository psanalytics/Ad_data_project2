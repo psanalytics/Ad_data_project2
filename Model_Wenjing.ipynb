{
 "cells": [
  {
   "cell_type": "code",
   "execution_count": 1,
   "metadata": {
    "collapsed": false
   },
   "outputs": [],
   "source": [
    "import pandas as pd\n",
    "import numpy as np\n",
    "import patsy\n",
    "from sklearn.metrics import accuracy_score\n",
    "from sklearn.metrics import precision_recall_fscore_support as score\n",
    "from sklearn.cross_validation import train_test_split\n",
    "from sklearn.linear_model import LogisticRegression\n",
    "from sklearn.feature_selection import SelectKBest\n",
    "from sklearn.feature_selection import chi2\n",
    "\n",
    "#ad_df.replace(' ?', 'Missing', inplace=True)\n",
    "#ad_df.head()\n",
    "#ad_df.info()\n",
    "#replace ? with numpy nan to enable fillna and mean functions\n",
    "#votes_df.replace(['y', 'n', '?'], [1, 0, np.nan], inplace=True)\n",
    "#votes_df.fillna(votes_df.mean(), inplace=True)\n",
    "#votes_df.head(5)\n",
    "\n",
    "def getCleanData(csvFileName):\n",
    "    '''Reads in csv in the local folder and returns clean data frame'''\n",
    "    ad_df = pd.read_csv(csvFileName)\n",
    "\n",
    "    #Convert int64 to object to use in dmatrix\n",
    "    ad_df['ADTIND'] = ad_df['ADTIND'].apply(str)\n",
    "    ad_df['ADTOCC'] = ad_df['ADTOCC'].apply(str)\n",
    "    ad_df['SEOTR'] = ad_df['SEOTR'].apply(str)\n",
    "    ad_df['VETYN'] = ad_df['VETYN'].apply(str)\n",
    "\n",
    "    #Create dummy vars\n",
    "    ad_df_patsy = patsy.dmatrix(\"ACLSWKR\\\n",
    "                                +ADTIND\\\n",
    "                                +ADTOCC\\\n",
    "                                +AHGA\\\n",
    "                                +AHSCOL\\\n",
    "                                +AMARITL\\\n",
    "                                +AMJIND\\\n",
    "                                +AMJOCC\\\n",
    "                                +ARACE\\\n",
    "                                +AREORGN\\\n",
    "                                +ASEX\\\n",
    "                                +AUNMEM\\\n",
    "                                +AUNTYPE\\\n",
    "                                +AWKSTAT\\\n",
    "                                +CAPGAIN\\\n",
    "                                +CAPLOSS\\\n",
    "                                +DIVVAL\\\n",
    "                                +FILESTAT\\\n",
    "                                +GRINREG\\\n",
    "                                +GRINST\\\n",
    "                                +HHDFMX\\\n",
    "                                +HHDREL\\\n",
    "                                +MIGMTR1\\\n",
    "                                +MIGMTR3\\\n",
    "                                +MIGMTR4\\\n",
    "                                +MIGSAME\\\n",
    "                                +MIGSUN\\\n",
    "                                +NOEMP\\\n",
    "                                +PARENT\\\n",
    "                                +PEFNTVTY\\\n",
    "                                +PEMNTVTY\\\n",
    "                                +PENATVTY\\\n",
    "                                +PRCITSHP\\\n",
    "                                +SEOTR\\\n",
    "                                +VETQVA\\\n",
    "                                +VETYN-1\", data=ad_df, return_type='dataframe')\n",
    "    \n",
    "    #Get non categorical fields and replace target with 1 and 0\n",
    "    ad_df_for_model= ad_df[['AAGE','WKSWORK','YEAR','AHRSPAY','DIVVAL','CAPGAIN','CAPLOSS','NOEMP','INCOME_IND']].replace(['-50000', ' 50000+.'], [0, 1])\n",
    "    \n",
    "    #Add dummy matrix\n",
    "    ad_df_for_model = pd.merge(ad_df_patsy,ad_df_for_model, right_index=True, left_index=True)\n",
    "    \n",
    "    print ad_df_for_model.info()\n",
    "    \n",
    "    return ad_df_for_model"
   ]
  },
  {
   "cell_type": "code",
   "execution_count": 2,
   "metadata": {
    "collapsed": false
   },
   "outputs": [
    {
     "name": "stdout",
     "output_type": "stream",
     "text": [
      "<class 'pandas.core.frame.DataFrame'>\n",
      "Int64Index: 199523 entries, 0 to 199522\n",
      "Columns: 483 entries, ACLSWKR[ Federal government] to INCOME_IND\n",
      "dtypes: float64(474), int64(9)\n",
      "memory usage: 736.8 MB\n",
      "None\n"
     ]
    }
   ],
   "source": [
    "trainingData = getCleanData('census-income.csv')"
   ]
  },
  {
   "cell_type": "code",
   "execution_count": 3,
   "metadata": {
    "collapsed": false
   },
   "outputs": [],
   "source": [
    "#Have to drop one column since it's missing in test data\n",
    "#The better way is to impute this column in test data\n",
    "#For now just do MVP\n",
    "trainingData = trainingData.drop(\"HHDFMX[T. Grandchild <18 ever marr not in subfamily]\", 1)"
   ]
  },
  {
   "cell_type": "code",
   "execution_count": 4,
   "metadata": {
    "collapsed": false
   },
   "outputs": [],
   "source": [
    "#Split for training \n",
    "X = trainingData[trainingData.columns[:-1]]\n",
    "y = trainingData[trainingData.columns[-1]]\n",
    "X_train, X_test, y_train, y_test = train_test_split(X, y, test_size=0.2, random_state = 0)"
   ]
  },
  {
   "cell_type": "code",
   "execution_count": 6,
   "metadata": {
    "collapsed": false
   },
   "outputs": [
    {
     "data": {
      "text/plain": [
       "0    149659\n",
       "1      9959\n",
       "Name: INCOME_IND, dtype: int64"
      ]
     },
     "execution_count": 6,
     "metadata": {},
     "output_type": "execute_result"
    }
   ],
   "source": [
    "y_train.value_counts()"
   ]
  },
  {
   "cell_type": "markdown",
   "metadata": {
    "collapsed": false
   },
   "source": [
    "The following was to start a Gradient Boosting model. \n"
   ]
  },
  {
   "cell_type": "code",
   "execution_count": 8,
   "metadata": {
    "collapsed": false
   },
   "outputs": [
    {
     "name": "stdout",
     "output_type": "stream",
     "text": [
      "Populating the interactive namespace from numpy and matplotlib\n"
     ]
    },
    {
     "name": "stderr",
     "output_type": "stream",
     "text": [
      "WARNING: pylab import has clobbered these variables: ['random']\n",
      "`%matplotlib` prevents importing * from pylab and numpy\n"
     ]
    }
   ],
   "source": [
    "import pandas as pd\n",
    "import numpy as np\n",
    "import re\n",
    "%pylab inline\n",
    "import sklearn as skl\n",
    "import random\n",
    "import seaborn as sns\n",
    "import matplotlib as mpl\n",
    "import matplotlib.pyplot as plt\n",
    "from sklearn.externals import joblib\n",
    "from sklearn.ensemble import GradientBoostingClassifier as GBC\n",
    "from sklearn.grid_search import GridSearchCV\n",
    "from sklearn.ensemble.partial_dependence import plot_partial_dependence as PDP\n",
    "from sklearn.externals import joblib \n",
    "from sklearn.feature_selection import RFE\n",
    "from sklearn.linear_model import LogisticRegression,LinearRegression\n",
    "from sklearn import preprocessing\n",
    "from __future__ import print_function\n",
    "import statsmodels.api as sm\n",
    "import statsmodels.formula.api as smf\n",
    "#import xgboost as xgb\n",
    "import copy\n",
    "from sklearn.cross_validation import train_test_split\n",
    "%matplotlib inline"
   ]
  },
  {
   "cell_type": "code",
   "execution_count": 11,
   "metadata": {
    "collapsed": false
   },
   "outputs": [],
   "source": [
    "XGB_model = GBC(\n",
    "                learning_rate=0.1, n_estimators=100, subsample=1.0,max_depth=3,\n",
    "                                    )\n",
    "\n",
    "XGB_model.fit(X_train, y_train)\n",
    "pred_y_train = XGB_model.predict_proba(X_train)[:,1]\n",
    "pred_y_test = XGB_model.predict_proba(X_test)[:,1]"
   ]
  },
  {
   "cell_type": "code",
   "execution_count": 23,
   "metadata": {
    "collapsed": false
   },
   "outputs": [
    {
     "data": {
      "text/plain": [
       "array([  1.60564840e-03,   0.00000000e+00,   0.00000000e+00,\n",
       "         0.00000000e+00,   1.27572543e-03,   1.66790520e-02,\n",
       "         0.00000000e+00,   4.40479636e-03,   0.00000000e+00,\n",
       "         0.00000000e+00,   0.00000000e+00,   7.14560780e-04,\n",
       "         0.00000000e+00,   5.64026975e-03,   0.00000000e+00,\n",
       "         3.83928425e-04,   0.00000000e+00,   0.00000000e+00,\n",
       "         0.00000000e+00,   0.00000000e+00,   0.00000000e+00,\n",
       "         0.00000000e+00,   0.00000000e+00,   0.00000000e+00,\n",
       "         6.56746721e-04,   0.00000000e+00,   4.10485618e-03,\n",
       "         5.38381395e-03,   0.00000000e+00,   0.00000000e+00,\n",
       "         3.70942670e-04,   0.00000000e+00,   5.60902704e-04,\n",
       "         0.00000000e+00,   0.00000000e+00,   1.06980080e-03,\n",
       "         0.00000000e+00,   8.95164301e-05,   0.00000000e+00,\n",
       "         0.00000000e+00,   7.40067270e-04,   0.00000000e+00,\n",
       "         0.00000000e+00,   0.00000000e+00,   0.00000000e+00,\n",
       "         8.82691569e-04,   4.30393255e-03,   0.00000000e+00,\n",
       "         0.00000000e+00,   0.00000000e+00,   2.43337324e-03,\n",
       "         0.00000000e+00,   0.00000000e+00,   0.00000000e+00,\n",
       "         1.98000134e-03,   0.00000000e+00,   0.00000000e+00,\n",
       "         0.00000000e+00,   0.00000000e+00,   0.00000000e+00,\n",
       "         0.00000000e+00,   0.00000000e+00,   2.06624805e-02,\n",
       "         8.30637359e-03,   0.00000000e+00,   0.00000000e+00,\n",
       "         1.07509342e-02,   7.28207154e-03,   1.85936870e-02,\n",
       "         1.43924033e-02,   3.23943014e-03,   2.30565413e-02,\n",
       "         0.00000000e+00,   1.77350389e-03,   0.00000000e+00,\n",
       "         0.00000000e+00,   0.00000000e+00,   0.00000000e+00,\n",
       "         2.64880206e-03,   0.00000000e+00,   6.14135941e-03,\n",
       "         0.00000000e+00,   0.00000000e+00,   0.00000000e+00,\n",
       "         0.00000000e+00,   0.00000000e+00,   4.41003716e-04,\n",
       "         0.00000000e+00,   0.00000000e+00,   0.00000000e+00,\n",
       "         0.00000000e+00,   0.00000000e+00,   0.00000000e+00,\n",
       "         1.93526895e-02,   0.00000000e+00,   0.00000000e+00,\n",
       "         0.00000000e+00,   0.00000000e+00,   0.00000000e+00,\n",
       "         0.00000000e+00,   0.00000000e+00,   1.87628538e-02,\n",
       "         0.00000000e+00,   1.85198519e-02,   7.14930272e-03,\n",
       "         1.22391312e-03,   0.00000000e+00,   4.10826566e-04,\n",
       "         0.00000000e+00,   0.00000000e+00,   0.00000000e+00,\n",
       "         0.00000000e+00,   0.00000000e+00,   0.00000000e+00,\n",
       "         2.74814943e-02,   0.00000000e+00,   3.78399639e-02,\n",
       "         4.52062992e-03,   0.00000000e+00,   3.12497214e-02,\n",
       "         3.20420049e-02,   0.00000000e+00,   0.00000000e+00,\n",
       "         0.00000000e+00,   0.00000000e+00,   5.02413881e-03,\n",
       "         1.08722213e-03,   3.51277421e-03,   2.67490829e-03,\n",
       "         1.48627697e-03,   0.00000000e+00,   0.00000000e+00,\n",
       "         0.00000000e+00,   0.00000000e+00,   1.01772406e-02,\n",
       "         0.00000000e+00,   6.32649430e-03,   0.00000000e+00,\n",
       "         0.00000000e+00,   1.83021656e-03,   0.00000000e+00,\n",
       "         8.21480342e-04,   3.55692020e-03,   0.00000000e+00,\n",
       "         0.00000000e+00,   0.00000000e+00,   0.00000000e+00,\n",
       "         2.42702019e-03,   4.15812967e-03,   0.00000000e+00,\n",
       "         0.00000000e+00,   0.00000000e+00,   0.00000000e+00,\n",
       "         0.00000000e+00,   1.84217990e-02,   0.00000000e+00,\n",
       "         0.00000000e+00,   0.00000000e+00,   0.00000000e+00,\n",
       "         5.80394182e-03,   0.00000000e+00,   0.00000000e+00,\n",
       "         1.34425607e-02,   3.72584107e-03,   1.49867493e-02,\n",
       "         0.00000000e+00,   0.00000000e+00,   0.00000000e+00,\n",
       "         0.00000000e+00,   2.35460958e-04,   0.00000000e+00,\n",
       "         0.00000000e+00,   0.00000000e+00,   0.00000000e+00,\n",
       "         0.00000000e+00,   0.00000000e+00,   2.97522066e-03,\n",
       "         0.00000000e+00,   0.00000000e+00,   0.00000000e+00,\n",
       "         5.35680907e-02,   0.00000000e+00,   0.00000000e+00,\n",
       "         0.00000000e+00,   0.00000000e+00,   0.00000000e+00,\n",
       "         0.00000000e+00,   0.00000000e+00,   1.51682357e-03,\n",
       "         0.00000000e+00,   0.00000000e+00,   0.00000000e+00,\n",
       "         3.02225021e-03,   0.00000000e+00,   0.00000000e+00,\n",
       "         0.00000000e+00,   7.82451009e-03,   0.00000000e+00,\n",
       "         3.86430274e-03,   1.32035307e-04,   0.00000000e+00,\n",
       "         0.00000000e+00,   0.00000000e+00,   0.00000000e+00,\n",
       "         0.00000000e+00,   0.00000000e+00,   0.00000000e+00,\n",
       "         0.00000000e+00,   0.00000000e+00,   0.00000000e+00,\n",
       "         0.00000000e+00,   0.00000000e+00,   0.00000000e+00,\n",
       "         0.00000000e+00,   0.00000000e+00,   0.00000000e+00,\n",
       "         0.00000000e+00,   0.00000000e+00,   0.00000000e+00,\n",
       "         0.00000000e+00,   0.00000000e+00,   0.00000000e+00,\n",
       "         0.00000000e+00,   0.00000000e+00,   0.00000000e+00,\n",
       "         0.00000000e+00,   0.00000000e+00,   0.00000000e+00,\n",
       "         0.00000000e+00,   0.00000000e+00,   0.00000000e+00,\n",
       "         0.00000000e+00,   0.00000000e+00,   0.00000000e+00,\n",
       "         0.00000000e+00,   0.00000000e+00,   3.86239330e-04,\n",
       "         0.00000000e+00,   0.00000000e+00,   0.00000000e+00,\n",
       "         1.22346578e-03,   0.00000000e+00,   0.00000000e+00,\n",
       "         0.00000000e+00,   0.00000000e+00,   0.00000000e+00,\n",
       "         2.28241058e-04,   0.00000000e+00,   0.00000000e+00,\n",
       "         0.00000000e+00,   0.00000000e+00,   0.00000000e+00,\n",
       "         0.00000000e+00,   0.00000000e+00,   0.00000000e+00,\n",
       "         0.00000000e+00,   0.00000000e+00,   0.00000000e+00,\n",
       "         0.00000000e+00,   0.00000000e+00,   0.00000000e+00,\n",
       "         0.00000000e+00,   0.00000000e+00,   0.00000000e+00,\n",
       "         0.00000000e+00,   0.00000000e+00,   0.00000000e+00,\n",
       "         0.00000000e+00,   0.00000000e+00,   0.00000000e+00,\n",
       "         0.00000000e+00,   0.00000000e+00,   0.00000000e+00,\n",
       "         8.22708694e-03,   0.00000000e+00,   0.00000000e+00,\n",
       "         0.00000000e+00,   0.00000000e+00,   0.00000000e+00,\n",
       "         0.00000000e+00,   0.00000000e+00,   0.00000000e+00,\n",
       "         0.00000000e+00,   0.00000000e+00,   0.00000000e+00,\n",
       "         0.00000000e+00,   0.00000000e+00,   0.00000000e+00,\n",
       "         0.00000000e+00,   0.00000000e+00,   3.17007914e-03,\n",
       "         0.00000000e+00,   0.00000000e+00,   0.00000000e+00,\n",
       "         3.04097929e-03,   1.49148743e-03,   0.00000000e+00,\n",
       "         2.07199727e-03,   0.00000000e+00,   0.00000000e+00,\n",
       "         0.00000000e+00,   0.00000000e+00,   0.00000000e+00,\n",
       "         0.00000000e+00,   0.00000000e+00,   0.00000000e+00,\n",
       "         0.00000000e+00,   0.00000000e+00,   0.00000000e+00,\n",
       "         0.00000000e+00,   0.00000000e+00,   0.00000000e+00,\n",
       "         0.00000000e+00,   0.00000000e+00,   0.00000000e+00,\n",
       "         0.00000000e+00,   0.00000000e+00,   0.00000000e+00,\n",
       "         0.00000000e+00,   0.00000000e+00,   0.00000000e+00,\n",
       "         0.00000000e+00,   0.00000000e+00,   0.00000000e+00,\n",
       "         0.00000000e+00,   0.00000000e+00,   0.00000000e+00,\n",
       "         0.00000000e+00,   8.61399786e-04,   0.00000000e+00,\n",
       "         0.00000000e+00,   0.00000000e+00,   0.00000000e+00,\n",
       "         0.00000000e+00,   0.00000000e+00,   0.00000000e+00,\n",
       "         0.00000000e+00,   0.00000000e+00,   0.00000000e+00,\n",
       "         0.00000000e+00,   0.00000000e+00,   0.00000000e+00,\n",
       "         0.00000000e+00,   0.00000000e+00,   0.00000000e+00,\n",
       "         0.00000000e+00,   0.00000000e+00,   0.00000000e+00,\n",
       "         0.00000000e+00,   0.00000000e+00,   0.00000000e+00,\n",
       "         0.00000000e+00,   0.00000000e+00,   0.00000000e+00,\n",
       "         0.00000000e+00,   0.00000000e+00,   0.00000000e+00,\n",
       "         0.00000000e+00,   0.00000000e+00,   0.00000000e+00,\n",
       "         0.00000000e+00,   0.00000000e+00,   0.00000000e+00,\n",
       "         0.00000000e+00,   0.00000000e+00,   0.00000000e+00,\n",
       "         0.00000000e+00,   0.00000000e+00,   0.00000000e+00,\n",
       "         0.00000000e+00,   0.00000000e+00,   0.00000000e+00,\n",
       "         0.00000000e+00,   0.00000000e+00,   0.00000000e+00,\n",
       "         0.00000000e+00,   0.00000000e+00,   0.00000000e+00,\n",
       "         0.00000000e+00,   0.00000000e+00,   0.00000000e+00,\n",
       "         0.00000000e+00,   0.00000000e+00,   1.17833740e-04,\n",
       "         1.21843694e-03,   1.18252629e-03,   0.00000000e+00,\n",
       "         0.00000000e+00,   0.00000000e+00,   0.00000000e+00,\n",
       "         0.00000000e+00,   0.00000000e+00,   0.00000000e+00,\n",
       "         0.00000000e+00,   0.00000000e+00,   0.00000000e+00,\n",
       "         0.00000000e+00,   0.00000000e+00,   0.00000000e+00,\n",
       "         0.00000000e+00,   5.52999256e-04,   0.00000000e+00,\n",
       "         0.00000000e+00,   0.00000000e+00,   0.00000000e+00,\n",
       "         1.05561781e-03,   1.07393701e-03,   0.00000000e+00,\n",
       "         0.00000000e+00,   0.00000000e+00,   1.18124333e-03,\n",
       "         5.51269809e-04,   0.00000000e+00,   0.00000000e+00,\n",
       "         0.00000000e+00,   0.00000000e+00,   0.00000000e+00,\n",
       "         0.00000000e+00,   0.00000000e+00,   0.00000000e+00,\n",
       "         0.00000000e+00,   0.00000000e+00,   0.00000000e+00,\n",
       "         0.00000000e+00,   0.00000000e+00,   0.00000000e+00,\n",
       "         1.17236089e-03,   0.00000000e+00,   0.00000000e+00,\n",
       "         0.00000000e+00,   0.00000000e+00,   0.00000000e+00,\n",
       "         0.00000000e+00,   0.00000000e+00,   0.00000000e+00,\n",
       "         0.00000000e+00,   0.00000000e+00,   0.00000000e+00,\n",
       "         0.00000000e+00,   6.70978922e-04,   0.00000000e+00,\n",
       "         0.00000000e+00,   0.00000000e+00,   0.00000000e+00,\n",
       "         0.00000000e+00,   0.00000000e+00,   0.00000000e+00,\n",
       "         4.77465761e-03,   0.00000000e+00,   0.00000000e+00,\n",
       "         0.00000000e+00,   0.00000000e+00,   0.00000000e+00,\n",
       "         0.00000000e+00,   0.00000000e+00,   0.00000000e+00,\n",
       "         4.22185145e-05,   0.00000000e+00,   3.14265902e-04,\n",
       "         1.04303024e-03,   0.00000000e+00,   0.00000000e+00,\n",
       "         0.00000000e+00,   9.04727846e-03,   1.67154426e-03,\n",
       "         0.00000000e+00,   8.04583374e-04,   0.00000000e+00,\n",
       "         6.86029500e-04,   2.57286233e-02,   3.52678530e-02,\n",
       "         4.40874660e-02,   3.21728856e-02,   5.95415588e-02,\n",
       "         3.93970280e-02,   0.00000000e+00,   3.79292470e-02,\n",
       "         3.57899540e-02,   4.40426178e-02,   2.82567081e-02,\n",
       "         2.81993928e-02])"
      ]
     },
     "execution_count": 23,
     "metadata": {},
     "output_type": "execute_result"
    }
   ],
   "source": [
    "XGB_model.feature_importances_\n",
    "#len(XGB_model.feature_importances_)"
   ]
  },
  {
   "cell_type": "code",
   "execution_count": 14,
   "metadata": {
    "collapsed": true
   },
   "outputs": [],
   "source": [
    "def somersd(score, target, bins=500):\n",
    "    pred = np.array([score, target]).T\n",
    "    score, target = pred[pred.argsort(0)[:,0]].T\n",
    "    #score, target = np.array(pd.DataFrame(pred).sort((0,1))).T\n",
    "    \n",
    "    n_1=float(sum(target))\n",
    "    n_0=float(len(score)-n_1)\n",
    "    \n",
    "    pct_1=[0.0]\n",
    "    pct_0=[0.0]\n",
    "\n",
    "    for i in xrange(bins):\n",
    "        end = int(float(i+1)/bins*len(pred))\n",
    "        c_1 = sum(target[0:end])\n",
    "        pct_1.append(c_1/n_1)\n",
    "        pct_0.append((end-c_1)/n_0)\n",
    "\n",
    "    pct_1.append(1.0)\n",
    "    pct_0.append(1.0)\n",
    "    \n",
    "    sd=[(pct_1[i+1]+pct_1[i])*(pct_0[i+1]-pct_0[i]) for i in xrange(bins)]\n",
    "    \n",
    "    somersd=1-sum(sd)\n",
    "    return somersd\n",
    "\n",
    "def somers_plots(preds, bins=40):\n",
    "    figsize(16,8)\n",
    "    df = pd.DataFrame()\n",
    "    for model, pred in preds.iteritems():\n",
    "        mname = str(model)[:str(model).find(\"(\")]\n",
    "        #p = np.array(pd.DataFrame(pred).sort((0,1)))\n",
    "        p = pred[pred.argsort(0)[:,0]]\n",
    "        pct = []\n",
    "        for i in xrange(bins):\n",
    "            start = int(float(i)/bins*len(p))\n",
    "            end = int(float(i+1)/bins*len(p))\n",
    "            pct.append((i, np.mean(p[start:end,1])))\n",
    "        pct = np.array(pct)\n",
    "        for i in pct[:,1]:\n",
    "            print (i)\n",
    "        som = ' (%.3f)' % somersd(p[:,0], p[:,1])\n",
    "        df = pd.concat([df, pd.DataFrame([pct, mname+som, som]).T])\n",
    "         \n",
    "    for k, v in df.sort(2, ascending=False).iterrows():\n",
    "        pct = v.get_values()[0]\n",
    "        plot(pct[:,0], pct[:,1], label=v[1])\n",
    "    \n",
    "    ylim(0,0.8)\n",
    "    legend(loc='lower right')\n",
    "    show()"
   ]
  },
  {
   "cell_type": "code",
   "execution_count": 15,
   "metadata": {
    "collapsed": false
   },
   "outputs": [
    {
     "name": "stdout",
     "output_type": "stream",
     "text": [
      "0.0\n",
      "0.0\n",
      "0.0\n",
      "0.0\n",
      "0.0\n",
      "0.000250595163513\n",
      "0.00137827339932\n",
      "0.00162886856284\n",
      "0.00438541536148\n",
      "0.00426011777973\n",
      "0.00651629072682\n",
      "0.00977321137702\n",
      "0.0101491041223\n",
      "0.0186693396817\n",
      "0.0256860042601\n",
      "0.0441047487783\n",
      "0.0691642651297\n",
      "0.12554817692\n",
      "0.250093973186\n",
      "0.676231048741\n",
      "0.0\n",
      "0.0\n",
      "0.0\n",
      "0.0\n",
      "0.0\n",
      "0.0\n",
      "0.00250626566416\n",
      "0.00150300601202\n",
      "0.00250626566416\n",
      "0.00701754385965\n",
      "0.00751879699248\n",
      "0.00901803607214\n",
      "0.00952380952381\n",
      "0.0145363408521\n",
      "0.0300751879699\n",
      "0.0460921843687\n",
      "0.0651629072682\n",
      "0.122807017544\n",
      "0.245614035088\n",
      "0.650300601202\n"
     ]
    },
    {
     "name": "stderr",
     "output_type": "stream",
     "text": [
      "c:\\Users\\mhi299\\AppData\\Local\\Continuum\\Anaconda2\\lib\\site-packages\\ipykernel\\__main__.py:44: FutureWarning: sort(columns=....) is deprecated, use sort_values(by=.....)\n"
     ]
    },
    {
     "data": {
      "image/png": "[encoded data removed]",
      "text/plain": [
       "<matplotlib.figure.Figure at 0x7d11898>"
      ]
     },
     "metadata": {},
     "output_type": "display_data"
    }
   ],
   "source": [
    "preds={} \n",
    "preds[\"pred_y_train \"] = np.array(zip(pred_y_train, y_train))\n",
    "preds[\"pred_y_test \"] = np.array(zip(pred_y_test, y_test))\n",
    "somers_plots(preds, bins=20)"
   ]
  },
  {
   "cell_type": "markdown",
   "metadata": {},
   "source": [
    "The second model is LASSO based model"
   ]
  },
  {
   "cell_type": "code",
   "execution_count": 25,
   "metadata": {
    "collapsed": false
   },
   "outputs": [],
   "source": [
    "from sklearn.linear_model import LassoCV\n",
    "clf = LassoCV(cv=20).fit(X_train, y_train)\n",
    "\n",
    "pred_y_lasso_train = clf.predict(X_train)\n",
    "pred_y_lasso_test = clf.predict(X_test)\n"
   ]
  },
  {
   "cell_type": "code",
   "execution_count": 27,
   "metadata": {
    "collapsed": false
   },
   "outputs": [
    {
     "name": "stdout",
     "output_type": "stream",
     "text": [
      "0.000125313283208\n",
      "0.0\n",
      "0.0\n",
      "0.0\n",
      "0.0\n",
      "0.00100238065405\n",
      "0.00400952261621\n",
      "0.00714196216013\n",
      "0.00701666457837\n",
      "0.00889612830472\n",
      "0.0164160401003\n",
      "0.0464854028317\n",
      "0.0339556446561\n",
      "0.0260618970054\n",
      "0.0630246836236\n",
      "0.107755920311\n",
      "0.138579125423\n",
      "0.151985966671\n",
      "0.208119283298\n",
      "0.42726475379\n",
      "0.000501253132832\n",
      "0.0\n",
      "0.0\n",
      "0.0\n",
      "0.0\n",
      "0.000501253132832\n",
      "0.0015037593985\n",
      "0.00501002004008\n",
      "0.00952380952381\n",
      "0.0110275689223\n",
      "0.0135338345865\n",
      "0.0490981963928\n",
      "0.0320802005013\n",
      "0.015037593985\n",
      "0.0611528822055\n",
      "0.0981963927856\n",
      "0.144360902256\n",
      "0.148370927318\n",
      "0.209022556391\n",
      "0.415330661323\n"
     ]
    },
    {
     "name": "stderr",
     "output_type": "stream",
     "text": [
      "c:\\Users\\mhi299\\AppData\\Local\\Continuum\\Anaconda2\\lib\\site-packages\\ipykernel\\__main__.py:44: FutureWarning: sort(columns=....) is deprecated, use sort_values(by=.....)\n"
     ]
    },
    {
     "data": {
      "image/png": "[encoded data removed]",
      "text/plain": [
       "<matplotlib.figure.Figure at 0xd070668>"
      ]
     },
     "metadata": {},
     "output_type": "display_data"
    }
   ],
   "source": [
    "preds_lasso={} \n",
    "preds_lasso[\"pred_y_train \"] = np.array(zip(pred_y_lasso_train, y_train))\n",
    "preds_lasso[\"pred_y_test \"] = np.array(zip(pred_y_lasso_test, y_test))\n",
    "somers_plots(preds_lasso, bins=20)"
   ]
  },
  {
   "cell_type": "code",
   "execution_count": 18,
   "metadata": {
    "collapsed": false
   },
   "outputs": [
    {
     "data": {
      "text/plain": [
       "48494     0\n",
       "81905     0\n",
       "155547    1\n",
       "142557    0\n",
       "2057      0\n",
       "72455     0\n",
       "80207     0\n",
       "43408     0\n",
       "69943     0\n",
       "85648     0\n",
       "91223     0\n",
       "185715    0\n",
       "47053     0\n",
       "75735     0\n",
       "151568    1\n",
       "19247     0\n",
       "182569    1\n",
       "15387     0\n",
       "50457     0\n",
       "188382    0\n",
       "25057     1\n",
       "191696    0\n",
       "63881     0\n",
       "90862     0\n",
       "184677    0\n",
       "120081    0\n",
       "135398    0\n",
       "32060     0\n",
       "139683    0\n",
       "19665     0\n",
       "         ..\n",
       "187022    0\n",
       "172391    0\n",
       "58047     0\n",
       "23807     0\n",
       "14832     0\n",
       "5060      0\n",
       "199336    1\n",
       "36837     0\n",
       "139527    0\n",
       "5081      1\n",
       "90258     0\n",
       "49625     0\n",
       "5276      0\n",
       "99694     0\n",
       "147461    1\n",
       "48280     0\n",
       "40540     0\n",
       "131010    0\n",
       "46543     0\n",
       "59635     0\n",
       "164620    0\n",
       "190759    0\n",
       "62593     0\n",
       "167093    0\n",
       "66512     0\n",
       "96263     0\n",
       "133863    0\n",
       "94786     0\n",
       "135966    0\n",
       "99735     0\n",
       "Name: INCOME_IND, dtype: int64"
      ]
     },
     "execution_count": 18,
     "metadata": {},
     "output_type": "execute_result"
    }
   ],
   "source": [
    "y_test"
   ]
  }
 ],
 "metadata": {
  "kernelspec": {
   "display_name": "Python 2",
   "language": "python",
   "name": "python2"
  },
  "language_info": {
   "codemirror_mode": {
    "name": "ipython",
    "version": 2
   },
   "file_extension": ".py",
   "mimetype": "text/x-python",
   "name": "python",
   "nbconvert_exporter": "python",
   "pygments_lexer": "ipython2",
   "version": "2.7.11"
  }
 },
 "nbformat": 4,
 "nbformat_minor": 0
}
